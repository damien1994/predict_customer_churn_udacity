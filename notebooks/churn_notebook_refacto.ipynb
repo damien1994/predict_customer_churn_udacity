{
 "cells": [
  {
   "cell_type": "code",
   "execution_count": 1,
   "id": "097deb53",
   "metadata": {},
   "outputs": [],
   "source": [
    "import shap\n",
    "import joblib\n",
    "import pandas as pd\n",
    "import numpy as np\n",
    "import matplotlib.pyplot as plt\n",
    "import seaborn as sns; sns.set()\n",
    "\n",
    "from sklearn.preprocessing import normalize\n",
    "from sklearn.model_selection import train_test_split\n",
    "\n",
    "from sklearn.linear_model import LogisticRegression\n",
    "from sklearn.ensemble import RandomForestClassifier\n",
    "from sklearn.model_selection import GridSearchCV\n",
    "\n",
    "from sklearn.metrics import plot_roc_curve, classification_report"
   ]
  },
  {
   "cell_type": "code",
   "execution_count": 2,
   "id": "aa75a602",
   "metadata": {},
   "outputs": [],
   "source": [
    "import os\n",
    "import logging as lg"
   ]
  },
  {
   "cell_type": "code",
   "execution_count": null,
   "id": "50989df4",
   "metadata": {},
   "outputs": [],
   "source": [
    "a = 'toto'"
   ]
  },
  {
   "cell_type": "code",
   "execution_count": null,
   "id": "7bf23043",
   "metadata": {},
   "outputs": [],
   "source": []
  },
  {
   "cell_type": "markdown",
   "id": "08baaa18",
   "metadata": {},
   "source": [
    "- prévoir un argument pour définir si l'on veut entrainer les modèles ou récupérer les .pkl"
   ]
  },
  {
   "cell_type": "code",
   "execution_count": null,
   "id": "a150bcd9",
   "metadata": {},
   "outputs": [],
   "source": [
    "IMAGES_EDA_OUTPUT_DIR = 'images/eda'\n",
    "IMAGES_EDA_SUB_DIR = [\n",
    "    'univariate_num_analysis',\n",
    "    'univarite_cat_analysis',\n",
    "    'bivariate_cat_analysis',\n",
    "    'bivariate_num_analysis',\n",
    "    'target'\n",
    "]"
   ]
  },
  {
   "cell_type": "code",
   "execution_count": null,
   "id": "7b0bb6b3",
   "metadata": {},
   "outputs": [],
   "source": [
    "for sub_dir in IMAGES_EDA_SUB_DIR:\n",
    "    path = os.path.join(IMAGES_EDA_OUTPUT_DIR, sub_dir)\n",
    "    safe_creation_directory(path)"
   ]
  },
  {
   "cell_type": "code",
   "execution_count": null,
   "id": "e799b312",
   "metadata": {},
   "outputs": [],
   "source": [
    "def safe_creation_directory(path):\n",
    "    \"\"\"\n",
    "    Check if directory exists, if not, create it\n",
    "    :param path: path to store eda results\n",
    "    \"\"\"\n",
    "    if not os.path.isdir(path):\n",
    "        os.makedirs(path)\n",
    "        lg.info(f'folder has been created at {path}')\n",
    "    else:\n",
    "        lg.info(f'EDA images are stored in {path}')"
   ]
  },
  {
   "cell_type": "code",
   "execution_count": null,
   "id": "a6643eb9",
   "metadata": {},
   "outputs": [],
   "source": [
    "path_test = 'images/eda/univarite_cat_analysis/_histplot_distribution.png', bbox_inches='tight'"
   ]
  },
  {
   "cell_type": "code",
   "execution_count": 3,
   "id": "14d76bcd",
   "metadata": {},
   "outputs": [],
   "source": [
    "\"\"\"\n",
    "File to store all functions for customer churn predictions\n",
    "\"\"\"\n",
    "import logging as lg\n",
    "import pandas as pd\n",
    "import matplotlib.pyplot as plt\n",
    "import seaborn as sns; sns.set()\n",
    "\n",
    "from sklearn.model_selection import train_test_split\n",
    "from sklearn.model_selection import GridSearchCV\n",
    "\n",
    "from sklearn.metrics import plot_roc_curve, classification_report\n",
    "\n",
    "\n",
    "def import_data(input_path: str, num_columns: list, cat_columns: list, target_column: list) -> pd.DataFrame:\n",
    "    \"\"\"\n",
    "    Read csv file\n",
    "    :param input_path: path to csv file\n",
    "    :param num_columns: columns names for numeric variables\n",
    "    :param cat_columns: columns names for categorical variables\n",
    "    :param target_column: target column\n",
    "    :return: a pandas dataframe without unnamed columns\n",
    "    \"\"\"\n",
    "    try:\n",
    "        dataframe = pd.read_csv(input_path)\n",
    "        return dataframe[num_columns + cat_columns + target_column]\n",
    "    except FileNotFoundError as err:\n",
    "        lg.info('File not found')\n",
    "        raise err\n",
    "\n",
    "'''\n",
    "def perform_eda(df, col):\n",
    "   plt.figure(figsize=(20, 10))\n",
    "   if isinstance(col, object):\n",
    "       perform_eda_on_cat_columns()\n",
    "   else:\n",
    "       perform_eda_on_num_columns()\n",
    "'''\n",
    "\n",
    "\n",
    "#def perform_eda_on_cat_columns(df, cat_col):\n",
    "# def performn_eda_on_num_columns(df, num_col)\n",
    "\n",
    "\n",
    "#def encode_target(df: pd.DataFrame, target_name: str, target_encoding: dict) -> dict:\n",
    " #   \"\"\"\n",
    "  #  Encode target variable\n",
    "   # :param df: a pandas dataframe\n",
    "    #:param target_name: the target column to encode\n",
    "    #:param target_encoding: how to encode the target value\n",
    "    #:return: a dictionary with <new_encode : value to be encoded>\n",
    "    #\"\"\"\n",
    "    #for key, value in target_encoding.items():\n",
    "    #    return {key: df[target_name] == value}\n",
    "\n",
    "    \n",
    "\n",
    "\n",
    "#def encoder_helper(df: pd.DataFrame, feature: str) -> pd.DataFrame:\n",
    "#    \"\"\"\n",
    "#    Feature engineering - compute a target encoding\n",
    "#    :param df: the pandas dataframe\n",
    "#    :param feature: a column from the dataframe\n",
    "#    :return: a pandas dataframe with the target encoding to the feature\n",
    "#    \"\"\"\n",
    "#    try:\n",
    "#        feature_groups = df.groupby(feature).mean()['Churn']\n",
    "#        df['{0}_Churn'.format(feature)] = df[feature].map(feature_groups)\n",
    "#        return df\n",
    "#    except:\n",
    "#        lg.info(\"Something went wrong\")\n",
    "\n",
    "\n",
    "def perform_feature_engineering(df, target, test_size, random_state):\n",
    "    \"\"\"\n",
    "    Split data into train and test labels\n",
    "    :param df: a pandas dataframe\n",
    "    :param target: target column\n",
    "    :param test_size: size of test sample\n",
    "    :param random_state: controls the randomness of the sampled classes\n",
    "    :return: data and labels for train and test samples - return pandas dataframes & series\n",
    "    \"\"\"\n",
    "    df = df.select_dtypes(exclude=['object'])\n",
    "    return train_test_split(df.drop(target, axis=1), df[target], test_size=test_size, random_state=random_state), df.drop(target, axis=1).columns\n",
    "\n",
    "\n",
    "def classification_report_image(true_labels, predictions, name_model, mode, output_path):\n",
    "    \"\"\"\n",
    "    produces classification report for training and testing results and stores report as image\n",
    "    in images folder\n",
    "    :param true_labels:\n",
    "    :param predictions:\n",
    "    :param name_model:\n",
    "    :output_path:\n",
    "    :return:\n",
    "    \"\"\"\n",
    "    try:\n",
    "        lg.info(f'{name_model} results')\n",
    "        if mode == 'train':\n",
    "            lg.info(f'{mode} results')\n",
    "            return classification_report(true_labels, predictions)\n",
    "    except:\n",
    "        lg.info('Something went from')\n",
    "\n",
    "\n",
    "def train_models(x_train_data, x_test_data, y_train_data, model, param_grid=None, cv=None,\n",
    "                 grid_search=False, do_probabilities=False):\n",
    "    try:\n",
    "        if grid_search:\n",
    "            gs = GridSearchCV(\n",
    "                estimator=model,\n",
    "                param_grid=param_grid,\n",
    "                cv=cv,\n",
    "                n_jobs=-1,\n",
    "                verbose=2\n",
    "            )\n",
    "            fitted_model = gs.fit(x_train_data, y_train_data)\n",
    "        else:\n",
    "            fitted_model = model.fit(x_train_data, y_train_data)\n",
    "\n",
    "        predictions = fitted_model.predict_proba(x_test_data) if do_probabilities else fitted_model.predict(x_test_data)\n",
    "        return fitted_model, predictions\n",
    "    except:\n",
    "        lg.info('complicated life')\n",
    "\n",
    "\n",
    "def plot_roc_curves(model, true_labels, predictions):\n",
    "    \"\"\"\n",
    "    Plot roc curve associated to the model\n",
    "    :param model:\n",
    "    :param true_labels:\n",
    "    :param predictions:\n",
    "    :return:\n",
    "    \"\"\"\n",
    "    try:\n",
    "        return plot_roc_curve(model, true_labels, predictions)\n",
    "    except:\n",
    "        lg.info('try something')\n",
    "\n",
    "\n",
    "def encoder_helper(df: pd.DataFrame, target_name: str, new_target_name: str, target_encoding_dict: dict, cat_feature: list) -> pd.DataFrame:\n",
    "    \"\"\"\n",
    "    Encode target and categorical features\n",
    "    :param df: a pandas dataframe\n",
    "    :param target_name: the target column to encode\n",
    "    :param new_target_name: name of the target col encoded\n",
    "    :param target_encoding: how to encode the target value\n",
    "    :param cat_feature: list of categorical columns\n",
    "    :return: a pandas dataframe with the target and categorical column encoded\n",
    "    \"\"\"\n",
    "    try:\n",
    "        dataframe = encode_target(df, target_name, new_target_name, target_encoding_dict)\n",
    "        for col in cat_feature:\n",
    "            encoder_cat_features(dataframe, col)  \n",
    "        return dataframe\n",
    "    except:\n",
    "        lg.info(\"Something went wrong\")\n",
    "\n",
    "        \n",
    "        \n",
    "def encoder_cat_features(df: pd.DataFrame, feature: str) -> pd.DataFrame:\n",
    "    \"\"\"\n",
    "    Feature engineering - compute a target encoding\n",
    "    :param df: the pandas dataframe\n",
    "    :param feature: a column from the dataframe\n",
    "    :return: a pandas dataframe with the target encoding to the feature\n",
    "    \"\"\"\n",
    "    try:\n",
    "        feature_groups = df.groupby(feature).mean()['Churn']\n",
    "        df['{0}_Churn'.format(feature)] = df[feature].map(feature_groups)\n",
    "        return df\n",
    "    except:\n",
    "        lg.info(\"Something went wrong\")\n",
    "        \n",
    "def compute_encoding_target_dict(df: pd.DataFrame, target_name: str, target_encoding_dict: dict) -> dict:\n",
    "    \"\"\"\n",
    "    Compute dictionary for encoding target\n",
    "    :param df: a pandas dataframe\n",
    "    :param target_name: the target column to encode\n",
    "    :param target_encoding_dict: how to encode the target value\n",
    "    :return: a dictionary with <new_encode : value to be encoded>\n",
    "    \"\"\"\n",
    "    for key, value in target_encoding_dict.items():\n",
    "        return {key: df[target_name] == value}\n",
    "        \n",
    "\n",
    "def encode_target(df: pd.DataFrame, target_name: str, new_target_name: str, target_encoding_dict: dict) -> pd.Series:\n",
    "    \"\"\"\n",
    "    Encode target variable\n",
    "    :param df: a pandas dataframe\n",
    "    :param target_name: the target column to encode\n",
    "    :param new_target_name: name of the target col encoded\n",
    "    :param target_encoding: how to encode the target value\n",
    "    :return: a pandas series that corresponds to the new target column encoded\n",
    "    \"\"\"\n",
    "    try:\n",
    "        encoding_dict = compute_encoding_target_dict(df, target_name, target_encoding_dict)\n",
    "        df[new_target_name] = np.select(encoding_dict.values(), encoding_dict.keys(), default=1)\n",
    "        return df.drop(target_name, axis=1)\n",
    "    except KeyError as error:\n",
    "        lg.info('something went wrong')\n",
    "        raise err"
   ]
  },
  {
   "cell_type": "code",
   "execution_count": null,
   "id": "cddc102f",
   "metadata": {},
   "outputs": [],
   "source": [
    "def perform_eda(df, NUM_COLS, CAT_COLS, TARGET):\n",
    "    #plt.figure(figsize=(20,10)) \n",
    "    for col in NUM_COLS:\n",
    "        univariate_num_analysis(df, col)\n",
    "        bivariate_num_analysis(df, col)\n",
    "    for col in CAT_COLS:\n",
    "        univariate_cat_analysis(df, col)\n",
    "        bivariate_cat_analysis(df, col)\n",
    "    correlation_matrix(df)\n",
    "    plot_target_distribution(df, TARGET)"
   ]
  },
  {
   "cell_type": "code",
   "execution_count": null,
   "id": "48dc08f3",
   "metadata": {},
   "outputs": [],
   "source": [
    "def safe_creation_directory(path):\n",
    "    '''\n",
    "    Check if directory exists, if not, create it\n",
    "    '''\n",
    "    if not os.path.isdir(path):\n",
    "        os.makedirs(path)\n",
    "        lg.info(f'folder has been created at {path}')\n",
    "    else:\n",
    "        lg.info(f'EDA images are stored in {path}')"
   ]
  },
  {
   "cell_type": "code",
   "execution_count": null,
   "id": "b5c8b263",
   "metadata": {},
   "outputs": [],
   "source": [
    "IMAGES_OUTPUT_DIR = 'images/eda'\n",
    "if not os.path.isdir(IMAGES_OUTPUT_DIR):\n",
    "    os.makedirs(IMAGES_OUTPUT_DIR)\n",
    "    logging.info(f'folder has been created at {IMAGES_OUTPUT_DIR}')\n",
    "else:\n",
    "    logging.info(f'EDA images are stored in {IMAGES_OUTPUT_DIR}')"
   ]
  },
  {
   "cell_type": "code",
   "execution_count": null,
   "id": "83f254e5",
   "metadata": {},
   "outputs": [],
   "source": [
    "os.path.isdir('images')"
   ]
  },
  {
   "cell_type": "code",
   "execution_count": null,
   "id": "5a1cd39c",
   "metadata": {},
   "outputs": [],
   "source": [
    "a = ['AA']"
   ]
  },
  {
   "cell_type": "code",
   "execution_count": null,
   "id": "12f0e764",
   "metadata": {},
   "outputs": [],
   "source": [
    "def bivariate_cat_analysis(df, feature, target):\n",
    "    return sns.catplot(x=feature, hue=target, data=df, kind=\"count\")   "
   ]
  },
  {
   "cell_type": "code",
   "execution_count": null,
   "id": "1cf85fef",
   "metadata": {},
   "outputs": [],
   "source": [
    "def bivariate_cat_analysis(df, feature, target, output_dir):\n",
    "    \"\"\"\n",
    "    Bivariate analysis of numerical columns with target col\n",
    "    :param df: a pandas dataframe\n",
    "    :param feature: numerical column to cross with target col\n",
    "    :param target: target column\n",
    "    :param element: figure style with seaborn\n",
    "    :param output_dir: path to store result\n",
    "    \"\"\"\n",
    "    cat_bivariate_plot = sns.catplot(x=feature, hue=target, data=df)\n",
    "    cat_bivariate_plot.figure.savefig(f'{output_dir}/{feature}_bivariate_cat_analysis.png')"
   ]
  },
  {
   "cell_type": "code",
   "execution_count": null,
   "id": "1106e92a",
   "metadata": {},
   "outputs": [],
   "source": [
    "for col in CAT_COLUMNS:\n",
    "    sns.catplot(x=col, hue='Attrition_Flag', data=df, kind='count')"
   ]
  },
  {
   "cell_type": "code",
   "execution_count": null,
   "id": "9b06d47a",
   "metadata": {},
   "outputs": [],
   "source": [
    "def univariate_num_analysis(df: pd.DataFrame, feature: str, output_dir: str):\n",
    "    \"\"\"\n",
    "    Plot distribution of continuous columns and save result\n",
    "    :param df: A pandas dataframe\n",
    "    :param feature: numerical column to analyse\n",
    "    :param output_dir: path to store result\n",
    "    \"\"\"\n",
    "    plt.figure(figsize=(20,10)) \n",
    "    num_plot = sns.displot(df[feature])\n",
    "    num_plot.savefig(f'{output_dir}/{feature}_distplot_distribution.png')"
   ]
  },
  {
   "cell_type": "code",
   "execution_count": null,
   "id": "93a86168",
   "metadata": {},
   "outputs": [],
   "source": [
    "for col in NUM_COLUMNS:\n",
    "    univariate_num_analysis(df, col, IMAGES_OUTPUT_DIR)"
   ]
  },
  {
   "cell_type": "code",
   "execution_count": null,
   "id": "2ae4b5ad",
   "metadata": {},
   "outputs": [],
   "source": [
    "def univariate_cat_analysis(df, feature, output_dir):\n",
    "    plt.figure(figsize=(20,10)) \n",
    "    plot = sns.histplot(df[feature])\n",
    "    plot.figure.savefig(f'{output_dir}/{col}_histplot_distribution.png')"
   ]
  },
  {
   "cell_type": "code",
   "execution_count": null,
   "id": "23b33bf5",
   "metadata": {},
   "outputs": [],
   "source": [
    "for col in CAT_COLUMNS:\n",
    "    univariate_cat_analysis(df, col, IMAGES_OUTPUT_DIR)"
   ]
  },
  {
   "cell_type": "code",
   "execution_count": null,
   "id": "c1f92ca2",
   "metadata": {},
   "outputs": [],
   "source": [
    "def univariate_num_analysis(df, feature):\n",
    "    return sns.distplot(df[feature])"
   ]
  },
  {
   "cell_type": "code",
   "execution_count": null,
   "id": "95d4fb7a",
   "metadata": {},
   "outputs": [],
   "source": [
    "def bivariate_num_analysis(df, feature, target, element):\n",
    "    #return sns.histplot(df, x=feature, hue=target, element='poly')\n",
    "    return sns.histplot(df, x=feature, hue=target, element=element)"
   ]
  },
  {
   "cell_type": "code",
   "execution_count": null,
   "id": "ef64a4fe",
   "metadata": {},
   "outputs": [],
   "source": [
    "def bivariate_cat_analysis(df, feature, target):\n",
    "    return sns.catplot(x=feature, hue=target, data=df, kind=\"count\")    "
   ]
  },
  {
   "cell_type": "code",
   "execution_count": null,
   "id": "b6c4dd57",
   "metadata": {},
   "outputs": [],
   "source": [
    "for col in CAT_COLUMNS:\n",
    "    bivariate_cat_analysis(df, col, 'Attrition_Flag')"
   ]
  },
  {
   "cell_type": "code",
   "execution_count": null,
   "id": "64762ac5",
   "metadata": {},
   "outputs": [],
   "source": [
    "sns.catplot(\"Pclass\", hue=\"Survived\", data=df, kind=\"count\", \n",
    "            palette={1:\"blue\", 0:\"green\"}, ax=ax)"
   ]
  },
  {
   "cell_type": "code",
   "execution_count": null,
   "id": "65bea90e",
   "metadata": {},
   "outputs": [],
   "source": [
    "def correlation_matrix(df):\n",
    "    return sns.heatmap(df.corr(), annot=False, cmap='Dark2_r', linewidths = 2)"
   ]
  },
  {
   "cell_type": "code",
   "execution_count": null,
   "id": "ee959010",
   "metadata": {},
   "outputs": [],
   "source": [
    "def plot_target_distribution(df, target):\n",
    "    plt.title('target distribution')\n",
    "    df[target].value_counts('normalize').plot(kind='bar');"
   ]
  },
  {
   "cell_type": "code",
   "execution_count": null,
   "id": "bba4a0d1",
   "metadata": {},
   "outputs": [],
   "source": [
    "plot_target_distribution(df, 'Attrition_Flag')"
   ]
  },
  {
   "cell_type": "code",
   "execution_count": null,
   "id": "799f802b",
   "metadata": {},
   "outputs": [],
   "source": [
    "correlation_matrix(df)"
   ]
  },
  {
   "cell_type": "code",
   "execution_count": null,
   "id": "8ba77ca6",
   "metadata": {},
   "outputs": [],
   "source": []
  },
  {
   "cell_type": "code",
   "execution_count": null,
   "id": "77f28293",
   "metadata": {},
   "outputs": [],
   "source": [
    "plt.figure(figsize=(20,10))\n",
    "plt.title('Gender')\n",
    "df['Gender'].hist()"
   ]
  },
  {
   "cell_type": "code",
   "execution_count": null,
   "id": "3fc1e81b",
   "metadata": {},
   "outputs": [],
   "source": [
    "for col in NUM_COLUMNS:\n",
    "    univariate_num_analysis(df, col)"
   ]
  },
  {
   "cell_type": "code",
   "execution_count": null,
   "id": "0a2c94b7",
   "metadata": {},
   "outputs": [],
   "source": [
    "for col in CAT_COLUMNS:\n",
    "    univariate_cat_analysis(df, col)"
   ]
  },
  {
   "cell_type": "code",
   "execution_count": null,
   "id": "fe09d41a",
   "metadata": {},
   "outputs": [],
   "source": [
    "# roc curve\n"
   ]
  },
  {
   "cell_type": "code",
   "execution_count": null,
   "id": "2234425c",
   "metadata": {},
   "outputs": [],
   "source": [
    "def save_model(model, output_path):\n",
    "    safe_creation_directory(output_path)\n",
    "    return joblib.dump(model, output_path)\n",
    "\n",
    "def load_model(model, input_path):\n",
    "    return joblib.load(input_path)"
   ]
  },
  {
   "cell_type": "code",
   "execution_count": 4,
   "id": "ff903ecf",
   "metadata": {},
   "outputs": [],
   "source": [
    "CAT_COLUMNS = [\n",
    "    'Gender',\n",
    "    'Education_Level',\n",
    "    'Marital_Status',\n",
    "    'Income_Category',\n",
    "    'Card_Category'\n",
    "]\n",
    "\n",
    "NUM_COLUMNS = [\n",
    "    'Customer_Age',\n",
    "    'Dependent_count',\n",
    "    'Months_on_book',\n",
    "    'Total_Relationship_Count',\n",
    "    'Months_Inactive_12_mon',\n",
    "    'Contacts_Count_12_mon',\n",
    "    'Credit_Limit',\n",
    "    'Total_Revolving_Bal',\n",
    "    'Avg_Open_To_Buy',\n",
    "    'Total_Amt_Chng_Q4_Q1',\n",
    "    'Total_Trans_Amt',\n",
    "    'Total_Trans_Ct',\n",
    "    'Total_Ct_Chng_Q4_Q1',\n",
    "    'Avg_Utilization_Ratio'\n",
    "]\n",
    "\n",
    "TARGET_COL = [\n",
    "    'Attrition_Flag'\n",
    "]\n",
    "\n",
    "ENCODING_TARGET = {\n",
    "    0: 'Existing Customer',\n",
    "    1: 'Attrited Customer'\n",
    "}\n",
    "\n",
    "PARAM_GRID = {\n",
    "    'n_estimators': [200, 500],\n",
    "    'max_features': ['auto', 'sqrt'],\n",
    "    'max_depth': [4, 5, 100],\n",
    "    'criterion': ['gini', 'entropy']\n",
    "}\n"
   ]
  },
  {
   "cell_type": "code",
   "execution_count": null,
   "id": "b50e9b19",
   "metadata": {},
   "outputs": [],
   "source": [
    "# type(fitted_model).__name__  -> get model name"
   ]
  },
  {
   "cell_type": "code",
   "execution_count": 5,
   "id": "a806b207",
   "metadata": {},
   "outputs": [],
   "source": [
    "df = import_data(\"../churn/data/bank_data.csv\", NUM_COLUMNS, CAT_COLUMNS, TARGET_COL)"
   ]
  },
  {
   "cell_type": "code",
   "execution_count": 6,
   "id": "47eddf91",
   "metadata": {},
   "outputs": [
    {
     "data": {
      "text/html": [
       "<div>\n",
       "<style scoped>\n",
       "    .dataframe tbody tr th:only-of-type {\n",
       "        vertical-align: middle;\n",
       "    }\n",
       "\n",
       "    .dataframe tbody tr th {\n",
       "        vertical-align: top;\n",
       "    }\n",
       "\n",
       "    .dataframe thead th {\n",
       "        text-align: right;\n",
       "    }\n",
       "</style>\n",
       "<table border=\"1\" class=\"dataframe\">\n",
       "  <thead>\n",
       "    <tr style=\"text-align: right;\">\n",
       "      <th></th>\n",
       "      <th>Customer_Age</th>\n",
       "      <th>Dependent_count</th>\n",
       "      <th>Months_on_book</th>\n",
       "      <th>Total_Relationship_Count</th>\n",
       "      <th>Months_Inactive_12_mon</th>\n",
       "      <th>Contacts_Count_12_mon</th>\n",
       "      <th>Credit_Limit</th>\n",
       "      <th>Total_Revolving_Bal</th>\n",
       "      <th>Avg_Open_To_Buy</th>\n",
       "      <th>Total_Amt_Chng_Q4_Q1</th>\n",
       "      <th>Total_Trans_Amt</th>\n",
       "      <th>Total_Trans_Ct</th>\n",
       "      <th>Total_Ct_Chng_Q4_Q1</th>\n",
       "      <th>Avg_Utilization_Ratio</th>\n",
       "      <th>Gender</th>\n",
       "      <th>Education_Level</th>\n",
       "      <th>Marital_Status</th>\n",
       "      <th>Income_Category</th>\n",
       "      <th>Card_Category</th>\n",
       "      <th>Attrition_Flag</th>\n",
       "    </tr>\n",
       "  </thead>\n",
       "  <tbody>\n",
       "    <tr>\n",
       "      <th>0</th>\n",
       "      <td>45</td>\n",
       "      <td>3</td>\n",
       "      <td>39</td>\n",
       "      <td>5</td>\n",
       "      <td>1</td>\n",
       "      <td>3</td>\n",
       "      <td>12691.0</td>\n",
       "      <td>777</td>\n",
       "      <td>11914.0</td>\n",
       "      <td>1.335</td>\n",
       "      <td>1144</td>\n",
       "      <td>42</td>\n",
       "      <td>1.625</td>\n",
       "      <td>0.061</td>\n",
       "      <td>M</td>\n",
       "      <td>High School</td>\n",
       "      <td>Married</td>\n",
       "      <td>$60K - $80K</td>\n",
       "      <td>Blue</td>\n",
       "      <td>Existing Customer</td>\n",
       "    </tr>\n",
       "    <tr>\n",
       "      <th>1</th>\n",
       "      <td>49</td>\n",
       "      <td>5</td>\n",
       "      <td>44</td>\n",
       "      <td>6</td>\n",
       "      <td>1</td>\n",
       "      <td>2</td>\n",
       "      <td>8256.0</td>\n",
       "      <td>864</td>\n",
       "      <td>7392.0</td>\n",
       "      <td>1.541</td>\n",
       "      <td>1291</td>\n",
       "      <td>33</td>\n",
       "      <td>3.714</td>\n",
       "      <td>0.105</td>\n",
       "      <td>F</td>\n",
       "      <td>Graduate</td>\n",
       "      <td>Single</td>\n",
       "      <td>Less than $40K</td>\n",
       "      <td>Blue</td>\n",
       "      <td>Existing Customer</td>\n",
       "    </tr>\n",
       "    <tr>\n",
       "      <th>2</th>\n",
       "      <td>51</td>\n",
       "      <td>3</td>\n",
       "      <td>36</td>\n",
       "      <td>4</td>\n",
       "      <td>1</td>\n",
       "      <td>0</td>\n",
       "      <td>3418.0</td>\n",
       "      <td>0</td>\n",
       "      <td>3418.0</td>\n",
       "      <td>2.594</td>\n",
       "      <td>1887</td>\n",
       "      <td>20</td>\n",
       "      <td>2.333</td>\n",
       "      <td>0.000</td>\n",
       "      <td>M</td>\n",
       "      <td>Graduate</td>\n",
       "      <td>Married</td>\n",
       "      <td>$80K - $120K</td>\n",
       "      <td>Blue</td>\n",
       "      <td>Existing Customer</td>\n",
       "    </tr>\n",
       "    <tr>\n",
       "      <th>3</th>\n",
       "      <td>40</td>\n",
       "      <td>4</td>\n",
       "      <td>34</td>\n",
       "      <td>3</td>\n",
       "      <td>4</td>\n",
       "      <td>1</td>\n",
       "      <td>3313.0</td>\n",
       "      <td>2517</td>\n",
       "      <td>796.0</td>\n",
       "      <td>1.405</td>\n",
       "      <td>1171</td>\n",
       "      <td>20</td>\n",
       "      <td>2.333</td>\n",
       "      <td>0.760</td>\n",
       "      <td>F</td>\n",
       "      <td>High School</td>\n",
       "      <td>Unknown</td>\n",
       "      <td>Less than $40K</td>\n",
       "      <td>Blue</td>\n",
       "      <td>Existing Customer</td>\n",
       "    </tr>\n",
       "    <tr>\n",
       "      <th>4</th>\n",
       "      <td>40</td>\n",
       "      <td>3</td>\n",
       "      <td>21</td>\n",
       "      <td>5</td>\n",
       "      <td>1</td>\n",
       "      <td>0</td>\n",
       "      <td>4716.0</td>\n",
       "      <td>0</td>\n",
       "      <td>4716.0</td>\n",
       "      <td>2.175</td>\n",
       "      <td>816</td>\n",
       "      <td>28</td>\n",
       "      <td>2.500</td>\n",
       "      <td>0.000</td>\n",
       "      <td>M</td>\n",
       "      <td>Uneducated</td>\n",
       "      <td>Married</td>\n",
       "      <td>$60K - $80K</td>\n",
       "      <td>Blue</td>\n",
       "      <td>Existing Customer</td>\n",
       "    </tr>\n",
       "  </tbody>\n",
       "</table>\n",
       "</div>"
      ],
      "text/plain": [
       "   Customer_Age  Dependent_count  Months_on_book  Total_Relationship_Count  \\\n",
       "0            45                3              39                         5   \n",
       "1            49                5              44                         6   \n",
       "2            51                3              36                         4   \n",
       "3            40                4              34                         3   \n",
       "4            40                3              21                         5   \n",
       "\n",
       "   Months_Inactive_12_mon  Contacts_Count_12_mon  Credit_Limit  \\\n",
       "0                       1                      3       12691.0   \n",
       "1                       1                      2        8256.0   \n",
       "2                       1                      0        3418.0   \n",
       "3                       4                      1        3313.0   \n",
       "4                       1                      0        4716.0   \n",
       "\n",
       "   Total_Revolving_Bal  Avg_Open_To_Buy  Total_Amt_Chng_Q4_Q1  \\\n",
       "0                  777          11914.0                 1.335   \n",
       "1                  864           7392.0                 1.541   \n",
       "2                    0           3418.0                 2.594   \n",
       "3                 2517            796.0                 1.405   \n",
       "4                    0           4716.0                 2.175   \n",
       "\n",
       "   Total_Trans_Amt  Total_Trans_Ct  Total_Ct_Chng_Q4_Q1  \\\n",
       "0             1144              42                1.625   \n",
       "1             1291              33                3.714   \n",
       "2             1887              20                2.333   \n",
       "3             1171              20                2.333   \n",
       "4              816              28                2.500   \n",
       "\n",
       "   Avg_Utilization_Ratio Gender Education_Level Marital_Status  \\\n",
       "0                  0.061      M     High School        Married   \n",
       "1                  0.105      F        Graduate         Single   \n",
       "2                  0.000      M        Graduate        Married   \n",
       "3                  0.760      F     High School        Unknown   \n",
       "4                  0.000      M      Uneducated        Married   \n",
       "\n",
       "  Income_Category Card_Category     Attrition_Flag  \n",
       "0     $60K - $80K          Blue  Existing Customer  \n",
       "1  Less than $40K          Blue  Existing Customer  \n",
       "2    $80K - $120K          Blue  Existing Customer  \n",
       "3  Less than $40K          Blue  Existing Customer  \n",
       "4     $60K - $80K          Blue  Existing Customer  "
      ]
     },
     "execution_count": 6,
     "metadata": {},
     "output_type": "execute_result"
    }
   ],
   "source": [
    "df.head()"
   ]
  },
  {
   "cell_type": "code",
   "execution_count": 11,
   "id": "6411ac3d",
   "metadata": {},
   "outputs": [
    {
     "data": {
      "text/html": [
       "<div>\n",
       "<style scoped>\n",
       "    .dataframe tbody tr th:only-of-type {\n",
       "        vertical-align: middle;\n",
       "    }\n",
       "\n",
       "    .dataframe tbody tr th {\n",
       "        vertical-align: top;\n",
       "    }\n",
       "\n",
       "    .dataframe thead th {\n",
       "        text-align: right;\n",
       "    }\n",
       "</style>\n",
       "<table border=\"1\" class=\"dataframe\">\n",
       "  <thead>\n",
       "    <tr style=\"text-align: right;\">\n",
       "      <th></th>\n",
       "      <th>Gender</th>\n",
       "      <th>Education_Level</th>\n",
       "      <th>Marital_Status</th>\n",
       "      <th>Income_Category</th>\n",
       "      <th>Card_Category</th>\n",
       "      <th>Attrition_Flag</th>\n",
       "    </tr>\n",
       "  </thead>\n",
       "  <tbody>\n",
       "    <tr>\n",
       "      <th>0</th>\n",
       "      <td>M</td>\n",
       "      <td>High School</td>\n",
       "      <td>Married</td>\n",
       "      <td>$60K - $80K</td>\n",
       "      <td>Blue</td>\n",
       "      <td>Existing Customer</td>\n",
       "    </tr>\n",
       "    <tr>\n",
       "      <th>1</th>\n",
       "      <td>F</td>\n",
       "      <td>Graduate</td>\n",
       "      <td>Single</td>\n",
       "      <td>Less than $40K</td>\n",
       "      <td>Blue</td>\n",
       "      <td>Existing Customer</td>\n",
       "    </tr>\n",
       "    <tr>\n",
       "      <th>2</th>\n",
       "      <td>M</td>\n",
       "      <td>Graduate</td>\n",
       "      <td>Married</td>\n",
       "      <td>$80K - $120K</td>\n",
       "      <td>Blue</td>\n",
       "      <td>Existing Customer</td>\n",
       "    </tr>\n",
       "    <tr>\n",
       "      <th>3</th>\n",
       "      <td>F</td>\n",
       "      <td>High School</td>\n",
       "      <td>Unknown</td>\n",
       "      <td>Less than $40K</td>\n",
       "      <td>Blue</td>\n",
       "      <td>Existing Customer</td>\n",
       "    </tr>\n",
       "    <tr>\n",
       "      <th>4</th>\n",
       "      <td>M</td>\n",
       "      <td>Uneducated</td>\n",
       "      <td>Married</td>\n",
       "      <td>$60K - $80K</td>\n",
       "      <td>Blue</td>\n",
       "      <td>Existing Customer</td>\n",
       "    </tr>\n",
       "    <tr>\n",
       "      <th>5</th>\n",
       "      <td>M</td>\n",
       "      <td>Graduate</td>\n",
       "      <td>Married</td>\n",
       "      <td>$40K - $60K</td>\n",
       "      <td>Blue</td>\n",
       "      <td>Existing Customer</td>\n",
       "    </tr>\n",
       "    <tr>\n",
       "      <th>6</th>\n",
       "      <td>M</td>\n",
       "      <td>Unknown</td>\n",
       "      <td>Married</td>\n",
       "      <td>$120K +</td>\n",
       "      <td>Gold</td>\n",
       "      <td>Existing Customer</td>\n",
       "    </tr>\n",
       "    <tr>\n",
       "      <th>7</th>\n",
       "      <td>M</td>\n",
       "      <td>High School</td>\n",
       "      <td>Unknown</td>\n",
       "      <td>$60K - $80K</td>\n",
       "      <td>Silver</td>\n",
       "      <td>Existing Customer</td>\n",
       "    </tr>\n",
       "    <tr>\n",
       "      <th>8</th>\n",
       "      <td>M</td>\n",
       "      <td>Uneducated</td>\n",
       "      <td>Single</td>\n",
       "      <td>$60K - $80K</td>\n",
       "      <td>Blue</td>\n",
       "      <td>Existing Customer</td>\n",
       "    </tr>\n",
       "    <tr>\n",
       "      <th>9</th>\n",
       "      <td>M</td>\n",
       "      <td>Graduate</td>\n",
       "      <td>Single</td>\n",
       "      <td>$80K - $120K</td>\n",
       "      <td>Blue</td>\n",
       "      <td>Existing Customer</td>\n",
       "    </tr>\n",
       "  </tbody>\n",
       "</table>\n",
       "</div>"
      ],
      "text/plain": [
       "  Gender Education_Level Marital_Status Income_Category Card_Category  \\\n",
       "0      M     High School        Married     $60K - $80K          Blue   \n",
       "1      F        Graduate         Single  Less than $40K          Blue   \n",
       "2      M        Graduate        Married    $80K - $120K          Blue   \n",
       "3      F     High School        Unknown  Less than $40K          Blue   \n",
       "4      M      Uneducated        Married     $60K - $80K          Blue   \n",
       "5      M        Graduate        Married     $40K - $60K          Blue   \n",
       "6      M         Unknown        Married         $120K +          Gold   \n",
       "7      M     High School        Unknown     $60K - $80K        Silver   \n",
       "8      M      Uneducated         Single     $60K - $80K          Blue   \n",
       "9      M        Graduate         Single    $80K - $120K          Blue   \n",
       "\n",
       "      Attrition_Flag  \n",
       "0  Existing Customer  \n",
       "1  Existing Customer  \n",
       "2  Existing Customer  \n",
       "3  Existing Customer  \n",
       "4  Existing Customer  \n",
       "5  Existing Customer  \n",
       "6  Existing Customer  \n",
       "7  Existing Customer  \n",
       "8  Existing Customer  \n",
       "9  Existing Customer  "
      ]
     },
     "execution_count": 11,
     "metadata": {},
     "output_type": "execute_result"
    }
   ],
   "source": [
    "df[CAT_COLUMNS+TARGET_COL].head(10)"
   ]
  },
  {
   "cell_type": "code",
   "execution_count": 7,
   "id": "e969093d",
   "metadata": {},
   "outputs": [
    {
     "data": {
      "text/html": [
       "<div>\n",
       "<style scoped>\n",
       "    .dataframe tbody tr th:only-of-type {\n",
       "        vertical-align: middle;\n",
       "    }\n",
       "\n",
       "    .dataframe tbody tr th {\n",
       "        vertical-align: top;\n",
       "    }\n",
       "\n",
       "    .dataframe thead th {\n",
       "        text-align: right;\n",
       "    }\n",
       "</style>\n",
       "<table border=\"1\" class=\"dataframe\">\n",
       "  <thead>\n",
       "    <tr style=\"text-align: right;\">\n",
       "      <th></th>\n",
       "      <th>Customer_Age</th>\n",
       "      <th>Dependent_count</th>\n",
       "      <th>Months_on_book</th>\n",
       "      <th>Total_Relationship_Count</th>\n",
       "      <th>Months_Inactive_12_mon</th>\n",
       "      <th>Contacts_Count_12_mon</th>\n",
       "      <th>Credit_Limit</th>\n",
       "      <th>Total_Revolving_Bal</th>\n",
       "      <th>Avg_Open_To_Buy</th>\n",
       "      <th>Total_Amt_Chng_Q4_Q1</th>\n",
       "      <th>Total_Trans_Amt</th>\n",
       "      <th>Total_Trans_Ct</th>\n",
       "      <th>Total_Ct_Chng_Q4_Q1</th>\n",
       "      <th>Avg_Utilization_Ratio</th>\n",
       "      <th>Gender</th>\n",
       "      <th>Education_Level</th>\n",
       "      <th>Marital_Status</th>\n",
       "      <th>Income_Category</th>\n",
       "      <th>Card_Category</th>\n",
       "      <th>Attrition_Flag</th>\n",
       "    </tr>\n",
       "  </thead>\n",
       "  <tbody>\n",
       "    <tr>\n",
       "      <th>5071</th>\n",
       "      <td>41</td>\n",
       "      <td>4</td>\n",
       "      <td>31</td>\n",
       "      <td>4</td>\n",
       "      <td>3</td>\n",
       "      <td>4</td>\n",
       "      <td>2934.0</td>\n",
       "      <td>933</td>\n",
       "      <td>2001.0</td>\n",
       "      <td>0.898</td>\n",
       "      <td>4253</td>\n",
       "      <td>66</td>\n",
       "      <td>0.737</td>\n",
       "      <td>0.318</td>\n",
       "      <td>F</td>\n",
       "      <td>Unknown</td>\n",
       "      <td>Married</td>\n",
       "      <td>Less than $40K</td>\n",
       "      <td>Blue</td>\n",
       "      <td>Existing Customer</td>\n",
       "    </tr>\n",
       "    <tr>\n",
       "      <th>9562</th>\n",
       "      <td>46</td>\n",
       "      <td>1</td>\n",
       "      <td>27</td>\n",
       "      <td>1</td>\n",
       "      <td>3</td>\n",
       "      <td>1</td>\n",
       "      <td>13056.0</td>\n",
       "      <td>1890</td>\n",
       "      <td>11166.0</td>\n",
       "      <td>0.713</td>\n",
       "      <td>14280</td>\n",
       "      <td>102</td>\n",
       "      <td>0.672</td>\n",
       "      <td>0.145</td>\n",
       "      <td>M</td>\n",
       "      <td>Uneducated</td>\n",
       "      <td>Married</td>\n",
       "      <td>$60K - $80K</td>\n",
       "      <td>Blue</td>\n",
       "      <td>Existing Customer</td>\n",
       "    </tr>\n",
       "    <tr>\n",
       "      <th>816</th>\n",
       "      <td>54</td>\n",
       "      <td>3</td>\n",
       "      <td>36</td>\n",
       "      <td>2</td>\n",
       "      <td>3</td>\n",
       "      <td>4</td>\n",
       "      <td>9457.0</td>\n",
       "      <td>350</td>\n",
       "      <td>9107.0</td>\n",
       "      <td>1.024</td>\n",
       "      <td>1196</td>\n",
       "      <td>28</td>\n",
       "      <td>0.333</td>\n",
       "      <td>0.037</td>\n",
       "      <td>M</td>\n",
       "      <td>High School</td>\n",
       "      <td>Married</td>\n",
       "      <td>$80K - $120K</td>\n",
       "      <td>Blue</td>\n",
       "      <td>Attrited Customer</td>\n",
       "    </tr>\n",
       "    <tr>\n",
       "      <th>2518</th>\n",
       "      <td>62</td>\n",
       "      <td>1</td>\n",
       "      <td>43</td>\n",
       "      <td>3</td>\n",
       "      <td>1</td>\n",
       "      <td>1</td>\n",
       "      <td>4760.0</td>\n",
       "      <td>0</td>\n",
       "      <td>4760.0</td>\n",
       "      <td>0.564</td>\n",
       "      <td>1459</td>\n",
       "      <td>20</td>\n",
       "      <td>0.538</td>\n",
       "      <td>0.000</td>\n",
       "      <td>F</td>\n",
       "      <td>Uneducated</td>\n",
       "      <td>Married</td>\n",
       "      <td>$40K - $60K</td>\n",
       "      <td>Blue</td>\n",
       "      <td>Existing Customer</td>\n",
       "    </tr>\n",
       "    <tr>\n",
       "      <th>9026</th>\n",
       "      <td>62</td>\n",
       "      <td>1</td>\n",
       "      <td>46</td>\n",
       "      <td>2</td>\n",
       "      <td>3</td>\n",
       "      <td>3</td>\n",
       "      <td>7547.0</td>\n",
       "      <td>2477</td>\n",
       "      <td>5070.0</td>\n",
       "      <td>1.021</td>\n",
       "      <td>5294</td>\n",
       "      <td>73</td>\n",
       "      <td>0.698</td>\n",
       "      <td>0.328</td>\n",
       "      <td>M</td>\n",
       "      <td>High School</td>\n",
       "      <td>Single</td>\n",
       "      <td>$60K - $80K</td>\n",
       "      <td>Blue</td>\n",
       "      <td>Attrited Customer</td>\n",
       "    </tr>\n",
       "    <tr>\n",
       "      <th>...</th>\n",
       "      <td>...</td>\n",
       "      <td>...</td>\n",
       "      <td>...</td>\n",
       "      <td>...</td>\n",
       "      <td>...</td>\n",
       "      <td>...</td>\n",
       "      <td>...</td>\n",
       "      <td>...</td>\n",
       "      <td>...</td>\n",
       "      <td>...</td>\n",
       "      <td>...</td>\n",
       "      <td>...</td>\n",
       "      <td>...</td>\n",
       "      <td>...</td>\n",
       "      <td>...</td>\n",
       "      <td>...</td>\n",
       "      <td>...</td>\n",
       "      <td>...</td>\n",
       "      <td>...</td>\n",
       "      <td>...</td>\n",
       "    </tr>\n",
       "    <tr>\n",
       "      <th>4468</th>\n",
       "      <td>44</td>\n",
       "      <td>3</td>\n",
       "      <td>36</td>\n",
       "      <td>4</td>\n",
       "      <td>2</td>\n",
       "      <td>1</td>\n",
       "      <td>2534.0</td>\n",
       "      <td>1706</td>\n",
       "      <td>828.0</td>\n",
       "      <td>0.793</td>\n",
       "      <td>3965</td>\n",
       "      <td>57</td>\n",
       "      <td>1.111</td>\n",
       "      <td>0.673</td>\n",
       "      <td>M</td>\n",
       "      <td>Unknown</td>\n",
       "      <td>Married</td>\n",
       "      <td>$40K - $60K</td>\n",
       "      <td>Blue</td>\n",
       "      <td>Existing Customer</td>\n",
       "    </tr>\n",
       "    <tr>\n",
       "      <th>9199</th>\n",
       "      <td>49</td>\n",
       "      <td>4</td>\n",
       "      <td>45</td>\n",
       "      <td>1</td>\n",
       "      <td>3</td>\n",
       "      <td>1</td>\n",
       "      <td>5975.0</td>\n",
       "      <td>2045</td>\n",
       "      <td>3930.0</td>\n",
       "      <td>0.847</td>\n",
       "      <td>13090</td>\n",
       "      <td>102</td>\n",
       "      <td>0.672</td>\n",
       "      <td>0.342</td>\n",
       "      <td>F</td>\n",
       "      <td>Uneducated</td>\n",
       "      <td>Unknown</td>\n",
       "      <td>Less than $40K</td>\n",
       "      <td>Blue</td>\n",
       "      <td>Existing Customer</td>\n",
       "    </tr>\n",
       "    <tr>\n",
       "      <th>5422</th>\n",
       "      <td>37</td>\n",
       "      <td>4</td>\n",
       "      <td>31</td>\n",
       "      <td>6</td>\n",
       "      <td>3</td>\n",
       "      <td>0</td>\n",
       "      <td>1702.0</td>\n",
       "      <td>1018</td>\n",
       "      <td>684.0</td>\n",
       "      <td>0.645</td>\n",
       "      <td>4301</td>\n",
       "      <td>86</td>\n",
       "      <td>0.720</td>\n",
       "      <td>0.598</td>\n",
       "      <td>M</td>\n",
       "      <td>Doctorate</td>\n",
       "      <td>Single</td>\n",
       "      <td>$60K - $80K</td>\n",
       "      <td>Blue</td>\n",
       "      <td>Existing Customer</td>\n",
       "    </tr>\n",
       "    <tr>\n",
       "      <th>5641</th>\n",
       "      <td>41</td>\n",
       "      <td>2</td>\n",
       "      <td>36</td>\n",
       "      <td>5</td>\n",
       "      <td>2</td>\n",
       "      <td>4</td>\n",
       "      <td>2990.0</td>\n",
       "      <td>1828</td>\n",
       "      <td>1162.0</td>\n",
       "      <td>0.488</td>\n",
       "      <td>2265</td>\n",
       "      <td>41</td>\n",
       "      <td>0.414</td>\n",
       "      <td>0.611</td>\n",
       "      <td>F</td>\n",
       "      <td>Graduate</td>\n",
       "      <td>Married</td>\n",
       "      <td>$40K - $60K</td>\n",
       "      <td>Blue</td>\n",
       "      <td>Attrited Customer</td>\n",
       "    </tr>\n",
       "    <tr>\n",
       "      <th>2388</th>\n",
       "      <td>36</td>\n",
       "      <td>2</td>\n",
       "      <td>28</td>\n",
       "      <td>5</td>\n",
       "      <td>1</td>\n",
       "      <td>3</td>\n",
       "      <td>6824.0</td>\n",
       "      <td>1873</td>\n",
       "      <td>4951.0</td>\n",
       "      <td>0.563</td>\n",
       "      <td>1933</td>\n",
       "      <td>48</td>\n",
       "      <td>0.655</td>\n",
       "      <td>0.274</td>\n",
       "      <td>M</td>\n",
       "      <td>Graduate</td>\n",
       "      <td>Married</td>\n",
       "      <td>$40K - $60K</td>\n",
       "      <td>Blue</td>\n",
       "      <td>Existing Customer</td>\n",
       "    </tr>\n",
       "  </tbody>\n",
       "</table>\n",
       "<p>100 rows × 20 columns</p>\n",
       "</div>"
      ],
      "text/plain": [
       "      Customer_Age  Dependent_count  Months_on_book  Total_Relationship_Count  \\\n",
       "5071            41                4              31                         4   \n",
       "9562            46                1              27                         1   \n",
       "816             54                3              36                         2   \n",
       "2518            62                1              43                         3   \n",
       "9026            62                1              46                         2   \n",
       "...            ...              ...             ...                       ...   \n",
       "4468            44                3              36                         4   \n",
       "9199            49                4              45                         1   \n",
       "5422            37                4              31                         6   \n",
       "5641            41                2              36                         5   \n",
       "2388            36                2              28                         5   \n",
       "\n",
       "      Months_Inactive_12_mon  Contacts_Count_12_mon  Credit_Limit  \\\n",
       "5071                       3                      4        2934.0   \n",
       "9562                       3                      1       13056.0   \n",
       "816                        3                      4        9457.0   \n",
       "2518                       1                      1        4760.0   \n",
       "9026                       3                      3        7547.0   \n",
       "...                      ...                    ...           ...   \n",
       "4468                       2                      1        2534.0   \n",
       "9199                       3                      1        5975.0   \n",
       "5422                       3                      0        1702.0   \n",
       "5641                       2                      4        2990.0   \n",
       "2388                       1                      3        6824.0   \n",
       "\n",
       "      Total_Revolving_Bal  Avg_Open_To_Buy  Total_Amt_Chng_Q4_Q1  \\\n",
       "5071                  933           2001.0                 0.898   \n",
       "9562                 1890          11166.0                 0.713   \n",
       "816                   350           9107.0                 1.024   \n",
       "2518                    0           4760.0                 0.564   \n",
       "9026                 2477           5070.0                 1.021   \n",
       "...                   ...              ...                   ...   \n",
       "4468                 1706            828.0                 0.793   \n",
       "9199                 2045           3930.0                 0.847   \n",
       "5422                 1018            684.0                 0.645   \n",
       "5641                 1828           1162.0                 0.488   \n",
       "2388                 1873           4951.0                 0.563   \n",
       "\n",
       "      Total_Trans_Amt  Total_Trans_Ct  Total_Ct_Chng_Q4_Q1  \\\n",
       "5071             4253              66                0.737   \n",
       "9562            14280             102                0.672   \n",
       "816              1196              28                0.333   \n",
       "2518             1459              20                0.538   \n",
       "9026             5294              73                0.698   \n",
       "...               ...             ...                  ...   \n",
       "4468             3965              57                1.111   \n",
       "9199            13090             102                0.672   \n",
       "5422             4301              86                0.720   \n",
       "5641             2265              41                0.414   \n",
       "2388             1933              48                0.655   \n",
       "\n",
       "      Avg_Utilization_Ratio Gender Education_Level Marital_Status  \\\n",
       "5071                  0.318      F         Unknown        Married   \n",
       "9562                  0.145      M      Uneducated        Married   \n",
       "816                   0.037      M     High School        Married   \n",
       "2518                  0.000      F      Uneducated        Married   \n",
       "9026                  0.328      M     High School         Single   \n",
       "...                     ...    ...             ...            ...   \n",
       "4468                  0.673      M         Unknown        Married   \n",
       "9199                  0.342      F      Uneducated        Unknown   \n",
       "5422                  0.598      M       Doctorate         Single   \n",
       "5641                  0.611      F        Graduate        Married   \n",
       "2388                  0.274      M        Graduate        Married   \n",
       "\n",
       "     Income_Category Card_Category     Attrition_Flag  \n",
       "5071  Less than $40K          Blue  Existing Customer  \n",
       "9562     $60K - $80K          Blue  Existing Customer  \n",
       "816     $80K - $120K          Blue  Attrited Customer  \n",
       "2518     $40K - $60K          Blue  Existing Customer  \n",
       "9026     $60K - $80K          Blue  Attrited Customer  \n",
       "...              ...           ...                ...  \n",
       "4468     $40K - $60K          Blue  Existing Customer  \n",
       "9199  Less than $40K          Blue  Existing Customer  \n",
       "5422     $60K - $80K          Blue  Existing Customer  \n",
       "5641     $40K - $60K          Blue  Attrited Customer  \n",
       "2388     $40K - $60K          Blue  Existing Customer  \n",
       "\n",
       "[100 rows x 20 columns]"
      ]
     },
     "execution_count": 7,
     "metadata": {},
     "output_type": "execute_result"
    }
   ],
   "source": [
    "df.sample(100).to_csv('..')"
   ]
  },
  {
   "cell_type": "code",
   "execution_count": null,
   "id": "db267c50",
   "metadata": {},
   "outputs": [],
   "source": []
  },
  {
   "cell_type": "code",
   "execution_count": null,
   "id": "2fed15be",
   "metadata": {},
   "outputs": [],
   "source": []
  },
  {
   "cell_type": "markdown",
   "id": "ab54876b",
   "metadata": {},
   "source": [
    "### ENCODE TARGET COLUMN"
   ]
  },
  {
   "cell_type": "raw",
   "id": "0a00e70f",
   "metadata": {},
   "source": [
    "-> AttributeError"
   ]
  },
  {
   "cell_type": "code",
   "execution_count": null,
   "id": "4ca823f7",
   "metadata": {},
   "outputs": [],
   "source": [
    "def encoder_helper(df: pd.DataFrame, target_name: str, new_target_name: str, target_encoding_dict: dict, cat_feature: list) -> pd.DataFrame:\n",
    "    \"\"\"\n",
    "    Encode target and categorical features\n",
    "    :param df: a pandas dataframe\n",
    "    :param target_name: the target column to encode\n",
    "    :param new_target_name: name of the target col encoded\n",
    "    :param target_encoding: how to encode the target value\n",
    "    :param cat_feature: list of categorical columns\n",
    "    :return: a pandas dataframe with the target and categorical column encoded\n",
    "    \"\"\"\n",
    "    try:\n",
    "        dataframe = encode_target(df, target_name, new_target_name, target_encoding_dict)\n",
    "        for col in cat_feature:\n",
    "            encoder_cat_features(dataframe, col)  \n",
    "        return dataframe\n",
    "    except:\n",
    "        lg.info(\"Something went wrong\")\n",
    "\n",
    "        \n",
    "        \n",
    "def encoder_cat_features(df: pd.DataFrame, feature: str) -> pd.DataFrame:\n",
    "    \"\"\"\n",
    "    Feature engineering - compute a target encoding\n",
    "    :param df: the pandas dataframe\n",
    "    :param feature: a column from the dataframe\n",
    "    :return: a pandas dataframe with the target encoding to the feature\n",
    "    \"\"\"\n",
    "    try:\n",
    "        feature_groups = df.groupby(feature).mean()['Churn']\n",
    "        df['{0}_Churn'.format(feature)] = df[feature].map(feature_groups)\n",
    "        return df\n",
    "    except:\n",
    "        lg.info(\"Something went wrong\")\n",
    "        \n",
    "def compute_encoding_target_dict(df: pd.DataFrame, target_name: str, target_encoding_dict: dict) -> dict:\n",
    "    \"\"\"\n",
    "    Compute dictionary for encoding target\n",
    "    :param df: a pandas dataframe\n",
    "    :param target_name: the target column to encode\n",
    "    :param target_encoding_dict: how to encode the target value\n",
    "    :return: a dictionary with <new_encode : value to be encoded>\n",
    "    \"\"\"\n",
    "    for key, value in target_encoding_dict.items():\n",
    "        return {key: df[target_name] == value}\n",
    "        \n",
    "\n",
    "def encode_target(df: pd.DataFrame, target_name: str, new_target_name: str, target_encoding_dict: dict) -> pd.Series:\n",
    "    \"\"\"\n",
    "    Encode target variable\n",
    "    :param df: a pandas dataframe\n",
    "    :param target_name: the target column to encode\n",
    "    :param new_target_name: name of the target col encoded\n",
    "    :param target_encoding: how to encode the target value\n",
    "    :return: a pandas series that corresponds to the new target column encoded\n",
    "    \"\"\"\n",
    "    try:\n",
    "        encoding_dict = compute_encoding_target_dict(df, target_name, target_encoding_dict)\n",
    "        df[new_target_name] = np.select(encoding_dict.values(), encoding_dict.keys(), default=1)\n",
    "        return df.drop(target_name, axis=1)\n",
    "    except KeyError as error:\n",
    "        lg.info('something went wrong')\n",
    "        raise err"
   ]
  },
  {
   "cell_type": "code",
   "execution_count": null,
   "id": "e97791c9",
   "metadata": {},
   "outputs": [],
   "source": [
    "dataframe = encode_target(df, 'Attrition_Flag', 'Churn', ENCODING_TARGET)"
   ]
  },
  {
   "cell_type": "code",
   "execution_count": null,
   "id": "0c61251f",
   "metadata": {},
   "outputs": [],
   "source": [
    "df = encoder_helper(df, 'Attrition_Flag', 'Churn', ENCODING_TARGET, CAT_COLUMNS)"
   ]
  },
  {
   "cell_type": "code",
   "execution_count": null,
   "id": "a18d816e",
   "metadata": {},
   "outputs": [],
   "source": [
    "df.shape"
   ]
  },
  {
   "cell_type": "code",
   "execution_count": null,
   "id": "613653d7",
   "metadata": {},
   "outputs": [],
   "source": [
    "df.columns"
   ]
  },
  {
   "cell_type": "markdown",
   "id": "e73c08f4",
   "metadata": {},
   "source": [
    "### PERFORM FEATURE ENGINEERING"
   ]
  },
  {
   "cell_type": "code",
   "execution_count": null,
   "id": "9d344da4",
   "metadata": {},
   "outputs": [],
   "source": [
    "(X_train, X_test, y_train, y_test), feature_names = perform_feature_engineering(df, 'Churn', 0.3, 42)"
   ]
  },
  {
   "cell_type": "code",
   "execution_count": null,
   "id": "d13008c6",
   "metadata": {},
   "outputs": [],
   "source": [
    "print(X_train.shape, X_test.shape, len(y_train), len(y_test))"
   ]
  },
  {
   "cell_type": "code",
   "execution_count": null,
   "id": "bb81af47",
   "metadata": {},
   "outputs": [],
   "source": [
    "feature_names"
   ]
  },
  {
   "cell_type": "code",
   "execution_count": null,
   "id": "1a588fa1",
   "metadata": {},
   "outputs": [],
   "source": [
    "len(feature_names)"
   ]
  },
  {
   "cell_type": "code",
   "execution_count": null,
   "id": "96e0dbde",
   "metadata": {},
   "outputs": [],
   "source": [
    "X_test"
   ]
  },
  {
   "cell_type": "markdown",
   "id": "7e2ac4c7",
   "metadata": {},
   "source": [
    "### MODEL"
   ]
  },
  {
   "cell_type": "code",
   "execution_count": null,
   "id": "4f8afa70",
   "metadata": {},
   "outputs": [],
   "source": [
    "OUTPUT_DIR_MODEL = 'models'\n",
    "OUTPUT_DIR_RESULTS = 'results'"
   ]
  },
  {
   "cell_type": "markdown",
   "id": "8032560b",
   "metadata": {},
   "source": [
    "TypeError for train_models"
   ]
  },
  {
   "cell_type": "raw",
   "id": "a91b0aab",
   "metadata": {},
   "source": [
    "# store errors \n",
    "-> ValueError\n",
    "\n",
    "# for model plot roc curve\n",
    "-> TypeError\n",
    "\n",
    "# shapley values\n",
    "-> Exception"
   ]
  },
  {
   "cell_type": "code",
   "execution_count": null,
   "id": "4818987f",
   "metadata": {},
   "outputs": [],
   "source": [
    "lrc = LogisticRegression(max_iter=200)\n",
    "rfc = RandomForestClassifier(random_state=42)"
   ]
  },
  {
   "cell_type": "code",
   "execution_count": null,
   "id": "73283508",
   "metadata": {},
   "outputs": [],
   "source": [
    "a = 'toto'"
   ]
  },
  {
   "cell_type": "code",
   "execution_count": null,
   "id": "4cd20919",
   "metadata": {},
   "outputs": [],
   "source": [
    "if a:\n",
    "    print(f'{a}')"
   ]
  },
  {
   "cell_type": "code",
   "execution_count": null,
   "id": "c6a39a24",
   "metadata": {},
   "outputs": [],
   "source": [
    "for model in [lrc, rfc]:\n",
    "    if model == lrc:\n",
    "        fitted_model, predictions = train_models(X_train, X_test, y_train, model, dump_model=True)\n",
    "    elif model == rfc:\n",
    "        fitted_model, predictions = train_models(X_train, X_test, y_train, model, param_grid=param_grid,\n",
    "                                                 cv=cv, grid_search=True, do_probabilities=False, dump_model=True)\n",
    "    evaluate_model(fitted_model, X_train, X_test, Y_test, predictions, type(fitted_model).__name__, OUTPUT_DIR_RESULTS)"
   ]
  },
  {
   "cell_type": "code",
   "execution_count": null,
   "id": "8b3eae07",
   "metadata": {},
   "outputs": [],
   "source": [
    "def train_models(x_train_data, x_test_data, y_train_data, model, param_grid=None, cv=None,\n",
    "                 grid_search=False, do_probabilities=False, output_path=None):\n",
    "    try:\n",
    "        if grid_search:\n",
    "            gs = GridSearchCV(\n",
    "                estimator=model,\n",
    "                param_grid=param_grid,\n",
    "                cv=cv,\n",
    "                n_jobs=-1,\n",
    "                verbose=2\n",
    "            )\n",
    "            fitted_model = gs.fit(x_train_data, y_train_data)\n",
    "        else:\n",
    "            fitted_model = model.fit(x_train_data, y_train_data)\n",
    "        \n",
    "        predictions = fitted_model.predict_proba(x_test_data) if do_probabilities else fitted_model.predict(x_test_data)\n",
    "        \n",
    "        if output_path:\n",
    "            save_model(fitted_model, output_path)\n",
    "            lg.info('Model has been dumped')\n",
    "        \n",
    "        return fitted_model, predictions\n",
    "    except:\n",
    "        lg.info('complicated life')"
   ]
  },
  {
   "cell_type": "code",
   "execution_count": null,
   "id": "43aead1c",
   "metadata": {},
   "outputs": [],
   "source": [
    "def evaluate_model(model_fitted, train_data, test_data, true_labels_labels, predictions, model_name, output_dir):\n",
    "    safe_creation_directory(output_dir)\n",
    "    store_classification_report(true_labels, predictions, model_name, output_dir)\n",
    "    store_model_roc_curve(model_fitted, test_data, true_labels_labels, model_name, output_dir)\n",
    "    compute_shapley_values(model_fitted, test_data, output_dir, train_data=None)\n",
    "    if model_fitted.coef_.all:\n",
    "        coefficients = model_fitted.coef_[0]\n",
    "    coefficients = model_fitted.coef_[0] if model_fitted.coef_.all else model_fitted.best_estimator_.feature_importances_\n",
    "    compute_features_importances(train_data.columns, coefficients, model_name, output_dir)"
   ]
  },
  {
   "cell_type": "code",
   "execution_count": null,
   "id": "8d14d473",
   "metadata": {},
   "outputs": [],
   "source": [
    "lrc = LogisticRegression(max_iter=200)"
   ]
  },
  {
   "cell_type": "code",
   "execution_count": null,
   "id": "33e47449",
   "metadata": {},
   "outputs": [],
   "source": [
    "type(lrc)"
   ]
  },
  {
   "cell_type": "code",
   "execution_count": null,
   "id": "aa38b3cd",
   "metadata": {},
   "outputs": [],
   "source": [
    "logistic_args = {'x_train_data': X_train,\n",
    "                'x_test_data': X_test,\n",
    "                'y_train_data': y_train,\n",
    "                'model': lrc,\n",
    "                'output_path': OUTPUT_DIR_MODEL}"
   ]
  },
  {
   "cell_type": "code",
   "execution_count": null,
   "id": "866fcbfa",
   "metadata": {},
   "outputs": [],
   "source": [
    "train_models(**logistic_args)"
   ]
  },
  {
   "cell_type": "code",
   "execution_count": null,
   "id": "cdbb8c62",
   "metadata": {},
   "outputs": [],
   "source": [
    "fitted_model, predictions = train_models(x_train_data=X_train, x_test_data=X_test, \n",
    "                                         y_train_data=y_train, model=lrc, output_path=OUTPUT_DIR_MODEL)"
   ]
  },
  {
   "cell_type": "code",
   "execution_count": null,
   "id": "98f960e0",
   "metadata": {},
   "outputs": [],
   "source": [
    "def save_model(model, output_dir: str):\n",
    "    \"\"\"\n",
    "    Save the model fitted into a .pkl file\n",
    "    :param model: model fitted - an scikit learn object in our case\n",
    "    :param output_path: path where to store the model\n",
    "    :return a .pkl into the output path\n",
    "    \"\"\"\n",
    "    safe_creation_directory(output_dir)\n",
    "    return joblib.dump(model, f'{output_dir}/{type(model).__name__}.pkl')"
   ]
  },
  {
   "cell_type": "code",
   "execution_count": null,
   "id": "9b2408d7",
   "metadata": {},
   "outputs": [],
   "source": [
    "save_model(fitted_model, OUTPUT_DIR_MODEL)"
   ]
  },
  {
   "cell_type": "code",
   "execution_count": null,
   "id": "0b1ac866",
   "metadata": {},
   "outputs": [],
   "source": [
    "OUTPUT_DIR_MODEL_TRY = 'models_bis'"
   ]
  },
  {
   "cell_type": "code",
   "execution_count": null,
   "id": "884bfa7b",
   "metadata": {},
   "outputs": [],
   "source": [
    "def call_save_model(model, outpur_dir=None):\n",
    "    if outpur_dir:\n",
    "        save_model(model, outpur_dir)\n",
    "        lg.info('')\n",
    "    \n",
    "    return type(model).__name__"
   ]
  },
  {
   "cell_type": "code",
   "execution_count": null,
   "id": "0e67515a",
   "metadata": {},
   "outputs": [],
   "source": [
    "call_save_model(fitted_model, OUTPUT_DIR_MODEL_TRY)"
   ]
  },
  {
   "cell_type": "code",
   "execution_count": null,
   "id": "24982dea",
   "metadata": {},
   "outputs": [],
   "source": [
    "len(predictions)"
   ]
  },
  {
   "cell_type": "code",
   "execution_count": null,
   "id": "d9d81a1d",
   "metadata": {},
   "outputs": [],
   "source": [
    "if model_grid.best_estimator_:\n",
    "    print('toto')\n",
    "else:\n",
    "    print('aaa')"
   ]
  },
  {
   "cell_type": "code",
   "execution_count": null,
   "id": "852805f5",
   "metadata": {},
   "outputs": [],
   "source": [
    "ls ../churn/models/"
   ]
  },
  {
   "cell_type": "code",
   "execution_count": null,
   "id": "a808b1cd",
   "metadata": {},
   "outputs": [],
   "source": [
    "model_grid = joblib.load('../churn/models/GridSearchCV.pkl')"
   ]
  },
  {
   "cell_type": "code",
   "execution_count": null,
   "id": "15a02930",
   "metadata": {},
   "outputs": [],
   "source": [
    "type(model_grid.best_estimator_).__name__"
   ]
  },
  {
   "cell_type": "code",
   "execution_count": null,
   "id": "dcc020bb",
   "metadata": {},
   "outputs": [],
   "source": [
    "type(model_grid)"
   ]
  },
  {
   "cell_type": "code",
   "execution_count": null,
   "id": "1b83b204",
   "metadata": {},
   "outputs": [],
   "source": [
    "if isinstance(model_grid, GridSearchCV):\n",
    "    print('toto')"
   ]
  },
  {
   "cell_type": "code",
   "execution_count": null,
   "id": "5d09efea",
   "metadata": {},
   "outputs": [],
   "source": [
    "if fitted_model.coef_.all:\n",
    "    print('otot')"
   ]
  },
  {
   "cell_type": "code",
   "execution_count": null,
   "id": "c69503ba",
   "metadata": {},
   "outputs": [],
   "source": [
    "classification_report(y_test, predictions, output_dict=True)"
   ]
  },
  {
   "cell_type": "code",
   "execution_count": null,
   "id": "5b507fd6",
   "metadata": {},
   "outputs": [],
   "source": [
    "def store_classification_report(true_labels, predictions, model_name, outpur_dir):\n",
    "    \n",
    "    report = classification_report(y_test, predictions, output_dict=True)\n",
    "    return pd.DataFrame(report).transpose().to_csv(f'{output_dir}/{model_name}_classification_report.csv')"
   ]
  },
  {
   "cell_type": "code",
   "execution_count": null,
   "id": "6617b49d",
   "metadata": {},
   "outputs": [],
   "source": [
    "pd.DataFrame(classification_report(y_test, predictions, output_dict=True)).transpose().to_csv(f'{OUTPUT_DIR_RESULTS}/classification_report.csv')"
   ]
  },
  {
   "cell_type": "code",
   "execution_count": null,
   "id": "23da2c84",
   "metadata": {},
   "outputs": [],
   "source": [
    "print(classification_report(y_test, predictions))"
   ]
  },
  {
   "cell_type": "code",
   "execution_count": null,
   "id": "2efafbe6",
   "metadata": {},
   "outputs": [],
   "source": [
    "def store_model_roc_curve(model, test_data, test_labels, model_name, output_dir):\n",
    "    plt.figure(figsize=(15, 8))\n",
    "    ax = plt.gca()\n",
    "    plot_roc_curve(lrc, X_test, y_test, ax=ax, alpha=0.8)\n",
    "    plt.savefig(f'{output_dir}/{model_name}_roc_curve.png', bbox_inches = 'tight')"
   ]
  },
  {
   "cell_type": "code",
   "execution_count": null,
   "id": "e9a16465",
   "metadata": {},
   "outputs": [],
   "source": [
    "plot_model_roc_curve(fitted_model, X_test, y_test)"
   ]
  },
  {
   "cell_type": "code",
   "execution_count": null,
   "id": "ddd6f655",
   "metadata": {},
   "outputs": [],
   "source": [
    "type(fitted_model).__name__"
   ]
  },
  {
   "cell_type": "code",
   "execution_count": null,
   "id": "ea755ed0",
   "metadata": {},
   "outputs": [],
   "source": [
    "# TO COMPLETE\n",
    "TREE_EXPLAINER = ['RandomForestClassifier']\n",
    "LINEAR_EXPLAINER = ['LogisticRegression', 'LinearRegression']"
   ]
  },
  {
   "cell_type": "code",
   "execution_count": null,
   "id": "b89039e4",
   "metadata": {},
   "outputs": [],
   "source": [
    "def compute_shapley_values(model_fitted, test_data, output_dir, model_name, train_data=None):\n",
    "    plt.figure(figsize=(20, 10))\n",
    "    if type(fitted_model).__name__ in LINEAR_EXPLAINER:\n",
    "        masker = shap.maskers.Independent(data=train_data)\n",
    "        explainer = shap.LinearExplainer(fitted_model, masker=masker)\n",
    "    elif type(fitted_model).__name__ in TREE_EXPLAINER:\n",
    "        explainer = shap.TreeExplainer(model_fitted)\n",
    "    else:\n",
    "        lg.info('Add your model type to tree, linear, gradient or deep explainer and add condition to this function')\n",
    "    shap_values = explainer.shap_values(test_data)\n",
    "    shap.summary_plot(shap_values, test_data, show=False)\n",
    "    plt.savefig(f'{output_dir}/{model_name}_shapley_values.png', bbox_inches = 'tight')"
   ]
  },
  {
   "cell_type": "code",
   "execution_count": null,
   "id": "fcf098d4",
   "metadata": {},
   "outputs": [],
   "source": [
    "OUTPUT_DIR_SHAPLEY = 'images/results'"
   ]
  },
  {
   "cell_type": "code",
   "execution_count": null,
   "id": "eeebdc91",
   "metadata": {},
   "outputs": [],
   "source": [
    "compute_shapley_values(fitted_model, X_test, OUTPUT_DIR_SHAPLEY, X_train)"
   ]
  },
  {
   "cell_type": "code",
   "execution_count": null,
   "id": "3dfb2b6a",
   "metadata": {},
   "outputs": [],
   "source": [
    "# compute features importances\n",
    "fitted_model.get_params()"
   ]
  },
  {
   "cell_type": "code",
   "execution_count": null,
   "id": "2b040465",
   "metadata": {},
   "outputs": [],
   "source": [
    "len(fitted_model.coef_)\n",
    "\n",
    "# -> could be a good test \n",
    "# assert len(fitted_model.coef_) == feature_names"
   ]
  },
  {
   "cell_type": "code",
   "execution_count": null,
   "id": "439b6eb1",
   "metadata": {},
   "outputs": [],
   "source": [
    "fitted_model.coef_[0]"
   ]
  },
  {
   "cell_type": "code",
   "execution_count": null,
   "id": "9e73c482",
   "metadata": {},
   "outputs": [],
   "source": [
    "fitted_model.intercept_"
   ]
  },
  {
   "cell_type": "code",
   "execution_count": null,
   "id": "0031aa9a",
   "metadata": {},
   "outputs": [],
   "source": [
    "fitted_model.classes_"
   ]
  },
  {
   "cell_type": "code",
   "execution_count": null,
   "id": "bc8aeed6",
   "metadata": {},
   "outputs": [],
   "source": [
    "fitted_model.n_iter_"
   ]
  },
  {
   "cell_type": "code",
   "execution_count": null,
   "id": "19c4a363",
   "metadata": {},
   "outputs": [],
   "source": [
    "X_train.columns"
   ]
  },
  {
   "cell_type": "code",
   "execution_count": null,
   "id": "e7ae53c5",
   "metadata": {},
   "outputs": [],
   "source": [
    "feature_names"
   ]
  },
  {
   "cell_type": "code",
   "execution_count": null,
   "id": "34863c7c",
   "metadata": {},
   "outputs": [],
   "source": [
    "features_importances = {}\n",
    "for "
   ]
  },
  {
   "cell_type": "code",
   "execution_count": null,
   "id": "73f2aa1b",
   "metadata": {},
   "outputs": [],
   "source": [
    "print(tuple(zip(feature_names, fitted_model.coef_[0])))"
   ]
  },
  {
   "cell_type": "code",
   "execution_count": null,
   "id": "96499006",
   "metadata": {},
   "outputs": [],
   "source": [
    "print(tuple(zip(fitted_model.coef_, feature_names)))"
   ]
  },
  {
   "cell_type": "code",
   "execution_count": null,
   "id": "d6d1674a",
   "metadata": {},
   "outputs": [],
   "source": [
    "def compute_features_importances(feature_names, coefficients, model_name, output_dir):\n",
    "    plt.figure(figsize=(20, 10))\n",
    "    safe_creation_directory(output_dir)\n",
    "    df_features_importances = pd.DataFrame(zip(feature_names, coefficients), columns=['feature', 'coefficient']).sort_values(by=['coefficient'], ascending=False)\n",
    "    #Plot Searborn bar chart\n",
    "    sns.barplot(x=df_features_importances['coefficient'], y=df_features_importances['feature'])\n",
    "    #Add chart labels\n",
    "    plt.title(model_name + 'FEATURE IMPORTANCE')\n",
    "    plt.xlabel('FEATURE IMPORTANCE')\n",
    "    plt.ylabel('FEATURE NAMES')\n",
    "    plt.savefig(f'{output_dir}/{model_name}_features_importances.png', bbox_inches = 'tight')"
   ]
  },
  {
   "cell_type": "code",
   "execution_count": null,
   "id": "9ca23705",
   "metadata": {},
   "outputs": [],
   "source": [
    "compute_features_importances(feature_names, fitted_model.coef_[0], type(fitted_model).__name__, OUTPUT_DIR_SHAPLEY)"
   ]
  },
  {
   "cell_type": "code",
   "execution_count": null,
   "id": "d670ed36",
   "metadata": {},
   "outputs": [],
   "source": [
    "df_feat = pd.DataFrame(zip(feature_names, fitted_model.coef_[0]), columns=['feature', 'coefficient']).sort_values(by=['coefficient'], ascending=False)"
   ]
  },
  {
   "cell_type": "code",
   "execution_count": null,
   "id": "5d1e28a0",
   "metadata": {},
   "outputs": [],
   "source": [
    "df_feat.head()"
   ]
  },
  {
   "cell_type": "code",
   "execution_count": null,
   "id": "dc798705",
   "metadata": {},
   "outputs": [],
   "source": [
    "plt\n",
    "sns.barplot(x=df_feat['coefficient'], y=df_feat['feature'])"
   ]
  },
  {
   "cell_type": "code",
   "execution_count": null,
   "id": "131849b6",
   "metadata": {},
   "outputs": [],
   "source": []
  },
  {
   "cell_type": "code",
   "execution_count": null,
   "id": "3ab1a712",
   "metadata": {},
   "outputs": [],
   "source": []
  },
  {
   "cell_type": "code",
   "execution_count": null,
   "id": "30b9dfcb",
   "metadata": {},
   "outputs": [],
   "source": []
  }
 ],
 "metadata": {
  "kernelspec": {
   "display_name": "Python 3",
   "language": "python",
   "name": "python3"
  },
  "language_info": {
   "codemirror_mode": {
    "name": "ipython",
    "version": 3
   },
   "file_extension": ".py",
   "mimetype": "text/x-python",
   "name": "python",
   "nbconvert_exporter": "python",
   "pygments_lexer": "ipython3",
   "version": "3.8.2"
  }
 },
 "nbformat": 4,
 "nbformat_minor": 5
}
